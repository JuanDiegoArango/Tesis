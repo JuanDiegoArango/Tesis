{
 "cells": [
  {
   "cell_type": "code",
   "execution_count": 363,
   "metadata": {
    "collapsed": false
   },
   "outputs": [
    {
     "name": "stdout",
     "output_type": "stream",
     "text": [
      "Populating the interactive namespace from numpy and matplotlib\n"
     ]
    }
   ],
   "source": [
    "%pylab inline "
   ]
  },
  {
   "cell_type": "markdown",
   "metadata": {},
   "source": [
    "dt son fracciones de segundo\n"
   ]
  },
  {
   "cell_type": "code",
   "execution_count": 364,
   "metadata": {
    "collapsed": false
   },
   "outputs": [
    {
     "name": "stdout",
     "output_type": "stream",
     "text": [
      "10000000\n"
     ]
    }
   ],
   "source": [
    "dt=float(1e-5)\n",
    "tiempo=int(100/dt)\n",
    "fuerzas=zeros(tiempo)\n",
    "Kb_T=4.10\n",
    "print tiempo"
   ]
  },
  {
   "cell_type": "markdown",
   "metadata": {},
   "source": [
    "monomeros."
   ]
  },
  {
   "cell_type": "code",
   "execution_count": 365,
   "metadata": {
    "collapsed": false
   },
   "outputs": [],
   "source": [
    "Ntot=1000\n",
    "Na=Ntot-7\n",
    "Nb=7"
   ]
  },
  {
   "cell_type": "markdown",
   "metadata": {},
   "source": [
    "Longitudes"
   ]
  },
  {
   "cell_type": "code",
   "execution_count": 366,
   "metadata": {
    "collapsed": false,
    "scrolled": true
   },
   "outputs": [
    {
     "name": "stdout",
     "output_type": "stream",
     "text": [
      "744.75\n",
      "39.9\n"
     ]
    }
   ],
   "source": [
    "La0=0.75\n",
    "Lb0=5.7\n",
    "La=La0\n",
    "lp=2.7\n",
    "print Na*La\n",
    "print Nb*Lb0"
   ]
  },
  {
   "cell_type": "markdown",
   "metadata": {},
   "source": [
    "Funciones"
   ]
  },
  {
   "cell_type": "code",
   "execution_count": 367,
   "metadata": {
    "collapsed": false
   },
   "outputs": [],
   "source": [
    "def fuerza(x,c):\n",
    "    return (Kb_T/(4.0*lp))*((1.0-(x/c))**-2.0-1.0+4.0*(x/c))\n",
    "def probabilidad_de_transicion(v,f,delta_X):\n",
    "    return v*exp((delta_X*f)/(Kb_T))*dt\n",
    "def nuevo_La(f,Numero):\n",
    "    return (f/ka)+La0*Numero"
   ]
  },
  {
   "cell_type": "code",
   "execution_count": 368,
   "metadata": {
    "collapsed": false
   },
   "outputs": [
    {
     "name": "stdout",
     "output_type": "stream",
     "text": [
      "7\n"
     ]
    },
    {
     "data": {
      "image/png": "[encoded data removed]",
      "text/plain": [
       "<matplotlib.figure.Figure at 0x129b913d0>"
      ]
     },
     "metadata": {},
     "output_type": "display_data"
    }
   ],
   "source": [
    "ka=2.0\n",
    "kAB=float(5e-2)\n",
    "kBA=(700.0)\n",
    "\n",
    "delta_X_AB=0.5\n",
    "delta_X_BA=-0.5\n",
    "\n",
    "L_inicial=Na*La0+Nb*Lb0\n",
    "\n",
    "monomeros=ones(Ntot)\n",
    "cambio_L=100.0\n",
    "posicion_libre=7\n",
    "cp=zeros(4)\n",
    "t=1\n",
    "\n",
    "longitudes=zeros(tiempo)\n",
    "\n",
    "\n",
    "for i in range(0, posicion_libre):\n",
    "    monomeros[i]=2\n",
    "\n",
    "Na=len(monomeros[monomeros==1])    \n",
    "Nb=len(monomeros[monomeros==2])\n",
    "NaT=zeros(tiempo)\n",
    "NbT=zeros(tiempo)\n",
    "tau=zeros(tiempo)\n",
    "longitudA=zeros(tiempo)\n",
    "longitudB=zeros(tiempo)\n",
    "final=tiempo\n",
    "final2=tiempo\n",
    "y=0\n",
    "\n",
    "d=linspace(0,len(monomeros[0:final]),len(monomeros[0:final]))\n",
    "scatter(d,monomeros[0:final])\n",
    "xlabel(\"monomeros por posicion\")\n",
    "ylabel(\"estado en el que se encuentra cada uno, 1=a, 2=b\")\n",
    "xlim(0,20)\n",
    "print Nb"
   ]
  },
  {
   "cell_type": "code",
   "execution_count": 369,
   "metadata": {
    "collapsed": false
   },
   "outputs": [
    {
     "name": "stdout",
     "output_type": "stream",
     "text": [
      "10\n",
      "100\n",
      "1000\n",
      "10000\n",
      "100000\n",
      "1000000\n",
      "10000000"
     ]
    },
    {
     "name": "stderr",
     "output_type": "stream",
     "text": [
      "/Users/juandiegoarango/anaconda/lib/python2.7/site-packages/IPython/kernel/__main__.py:38: ComplexWarning: Casting complex values to real discards the imaginary part\n",
      "/Users/juandiegoarango/anaconda/lib/python2.7/site-packages/IPython/kernel/__main__.py:43: ComplexWarning: Casting complex values to real discards the imaginary part\n",
      "/Users/juandiegoarango/anaconda/lib/python2.7/site-packages/IPython/kernel/__main__.py:44: ComplexWarning: Casting complex values to real discards the imaginary part\n",
      "/Users/juandiegoarango/anaconda/lib/python2.7/site-packages/IPython/kernel/__main__.py:4: RuntimeWarning: overflow encountered in exp\n"
     ]
    },
    {
     "name": "stdout",
     "output_type": "stream",
     "text": [
      "\n"
     ]
    }
   ],
   "source": [
    "for j in range (0,tiempo):\n",
    "    if (t==j):\n",
    "        t=t*10\n",
    "        print t\n",
    "    \n",
    "    \n",
    "    L=L_inicial+cambio_L*(float(j)*dt)\n",
    "  \n",
    "    Na=len(monomeros[monomeros==1])    \n",
    "    Nb=len(monomeros[monomeros==2]) \n",
    "    \n",
    "    NaT[j]=Na\n",
    "    NbT[j]=Nb\n",
    "    tau[j]=dt*j\n",
    "    \n",
    "\n",
    "    a=La0*Na\n",
    "    b=Kb_T/(lp)\n",
    "    c=Lb0*Nb\n",
    "\n",
    "    cp[0]=4*(b+c*ka)\n",
    "    cp[1]=-(c)*(8*c*ka+4*ka*(L-a)+9*b)\n",
    "    cp[2]=(2*c**2)*(2*c*ka+4*ka*(L-a)+3*b)\n",
    "    cp[3]=4*(c**3)*(ka)*(a-L)\n",
    "    yupi=roots(cp)\n",
    "    Lb=yupi[2]\n",
    "    \n",
    "    \n",
    "    if(c==L):\n",
    "        final=j\n",
    "        \n",
    "        \n",
    "    if(Nb==Ntot) & (y==0):\n",
    "        y=1\n",
    "        final2=j\n",
    "    \n",
    "    \n",
    "    fuerzas[j]=fuerza(Lb,c)\n",
    "    La=nuevo_La(fuerza(Lb,c),Na)\n",
    "    \n",
    "    longitudes[j]=L-L_inicial\n",
    "    if (Na!=0):\n",
    "        longitudA[j]=La/Na\n",
    "    longitudB[j]=Lb/Nb\n",
    "  \n",
    "    p=random.uniform(size=2)\n",
    "    pa=probabilidad_de_transicion(kAB,fuerzas[j],delta_X_AB)\n",
    "    pb=probabilidad_de_transicion(kBA,fuerzas[j],delta_X_BA)  \n",
    "        \n",
    "   \n",
    "    if (pa>p[1]) & ((Na)>0): \n",
    "        final=j\n",
    "        monomeros[posicion_libre]=2   \n",
    "        posicion_libre=posicion_libre+1\n",
    "        \n",
    "    Na=len(monomeros[monomeros==1])    \n",
    "    Nb=len(monomeros[monomeros==2])        \n",
    "        \n",
    "    if (pb>p[0]) & ((Nb)>7) & (posicion_libre>7):\n",
    "        posicion_libre=posicion_libre-1\n",
    "        monomeros[posicion_libre]=1 \n",
    "    "
   ]
  },
  {
   "cell_type": "code",
   "execution_count": 370,
   "metadata": {
    "collapsed": false
   },
   "outputs": [
    {
     "data": {
      "text/plain": [
       "(0, 2)"
      ]
     },
     "execution_count": 370,
     "metadata": {},
     "output_type": "execute_result"
    },
    {
     "data": {
      "image/png": "[encoded data removed]",
      "text/plain": [
       "<matplotlib.figure.Figure at 0x16405e4d0>"
      ]
     },
     "metadata": {},
     "output_type": "display_data"
    }
   ],
   "source": [
    "pa=probabilidad_de_transicion(kAB,fuerzas[0:final],delta_X_AB)\n",
    "pb=probabilidad_de_transicion(kBA,fuerzas[0:final],delta_X_BA)\n",
    "\n",
    "plot(tau[0:final],pa)\n",
    "plot(tau[0:final],pb)\n",
    "\n",
    "ylabel(\"probabilidad, verde de B a A y azul de A a B\")\n",
    "xlabel(\"tiempo (s)\")\n",
    "ylim(0,0.05)\n",
    "xlim(0,2)"
   ]
  },
  {
   "cell_type": "code",
   "execution_count": 379,
   "metadata": {
    "collapsed": false,
    "scrolled": true
   },
   "outputs": [
    {
     "data": {
      "text/plain": [
       "<matplotlib.text.Text at 0x1397a9650>"
      ]
     },
     "execution_count": 379,
     "metadata": {},
     "output_type": "execute_result"
    },
    {
     "data": {
      "image/png": "[encoded data removed]",
      "text/plain": [
       "<matplotlib.figure.Figure at 0x1263aefd0>"
      ]
     },
     "metadata": {},
     "output_type": "display_data"
    }
   ],
   "source": [
    "plot(longitudes[0:final],fuerzas[0:final])\n",
    "ylabel(\"Fuerza(pN)\")\n",
    "xlabel(\"Elongacion(nM)\")\n"
   ]
  },
  {
   "cell_type": "code",
   "execution_count": 372,
   "metadata": {
    "collapsed": false,
    "scrolled": false
   },
   "outputs": [
    {
     "data": {
      "text/plain": [
       "<matplotlib.text.Text at 0x1232603d0>"
      ]
     },
     "execution_count": 372,
     "metadata": {},
     "output_type": "execute_result"
    },
    {
     "data": {
      "image/png": "[encoded data removed]",
      "text/plain": [
       "<matplotlib.figure.Figure at 0x1252c70d0>"
      ]
     },
     "metadata": {},
     "output_type": "display_data"
    }
   ],
   "source": [
    "d=linspace(0,len(monomeros[0:final]),len(monomeros[0:final]))\n",
    "plot(d,monomeros[0:final])\n",
    "xlabel(\"monomeros por posicion\")\n",
    "ylabel(\"estado en el que se encuentra cada uno, 1=a, 2=b\")\n"
   ]
  },
  {
   "cell_type": "code",
   "execution_count": 373,
   "metadata": {
    "collapsed": false
   },
   "outputs": [
    {
     "data": {
      "text/plain": [
       "(-100, 1100)"
      ]
     },
     "execution_count": 373,
     "metadata": {},
     "output_type": "execute_result"
    },
    {
     "data": {
      "image/png": "[encoded data removed]",
      "text/plain": [
       "<matplotlib.figure.Figure at 0x12d0d4e50>"
      ]
     },
     "metadata": {},
     "output_type": "display_data"
    }
   ],
   "source": [
    "plot(tau[0:final],NaT[0:final])\n",
    "plot(tau[0:final],NbT[0:final])\n",
    "ylabel(\"monomeros en cada estado\")\n",
    "xlabel(\"tiempo (s)\")\n",
    "ylim(-100,1100)"
   ]
  },
  {
   "cell_type": "code",
   "execution_count": 374,
   "metadata": {
    "collapsed": false
   },
   "outputs": [
    {
     "data": {
      "text/plain": [
       "<matplotlib.text.Text at 0x1496ec050>"
      ]
     },
     "execution_count": 374,
     "metadata": {},
     "output_type": "execute_result"
    },
    {
     "data": {
      "image/png": "[encoded data removed]",
      "text/plain": [
       "<matplotlib.figure.Figure at 0x1370d1050>"
      ]
     },
     "metadata": {},
     "output_type": "display_data"
    }
   ],
   "source": [
    "plot(tau[0:final],longitudA[0:final])\n",
    "plot(tau[0:final],longitudB[0:final])\n",
    "ylabel(\"longitdu de cada tipo de monomero\")\n",
    "xlabel(\"tiempo (s)\")"
   ]
  },
  {
   "cell_type": "code",
   "execution_count": 375,
   "metadata": {
    "collapsed": false
   },
   "outputs": [
    {
     "data": {
      "text/plain": [
       "[<matplotlib.lines.Line2D at 0x129f3cc90>]"
      ]
     },
     "execution_count": 375,
     "metadata": {},
     "output_type": "execute_result"
    },
    {
     "data": {
      "image/png": "[encoded data removed]",
      "text/plain": [
       "<matplotlib.figure.Figure at 0x1299dd050>"
      ]
     },
     "metadata": {},
     "output_type": "display_data"
    }
   ],
   "source": [
    "plot(tau[0:final],longitudA[0:final]*NaT[0:final])\n",
    "plot(tau[0:final],longitudB[0:final]*NbT[0:final])"
   ]
  },
  {
   "cell_type": "code",
   "execution_count": 376,
   "metadata": {
    "collapsed": false
   },
   "outputs": [
    {
     "data": {
      "image/png": "[encoded data removed]",
      "text/plain": [
       "<matplotlib.figure.Figure at 0x1299dd490>"
      ]
     },
     "metadata": {},
     "output_type": "display_data"
    }
   ],
   "source": [
    "numBins = 250\n",
    "ai=hist(fuerzas[1300:final2],numBins, normed =True)"
   ]
  },
  {
   "cell_type": "code",
   "execution_count": 377,
   "metadata": {
    "collapsed": false
   },
   "outputs": [
    {
     "data": {
      "text/plain": [
       "38.386628816684023"
      ]
     },
     "execution_count": 377,
     "metadata": {},
     "output_type": "execute_result"
    }
   ],
   "source": [
    "mean(ai[1])"
   ]
  },
  {
   "cell_type": "code",
   "execution_count": 378,
   "metadata": {
    "collapsed": false
   },
   "outputs": [
    {
     "data": {
      "text/plain": [
       "13.280362862894572"
      ]
     },
     "execution_count": 378,
     "metadata": {},
     "output_type": "execute_result"
    }
   ],
   "source": [
    "std(ai[1])"
   ]
  },
  {
   "cell_type": "code",
   "execution_count": null,
   "metadata": {
    "collapsed": false
   },
   "outputs": [],
   "source": []
  },
  {
   "cell_type": "code",
   "execution_count": null,
   "metadata": {
    "collapsed": true
   },
   "outputs": [],
   "source": []
  }
 ],
 "metadata": {
  "kernelspec": {
   "display_name": "Python 2",
   "language": "python",
   "name": "python2"
  },
  "language_info": {
   "codemirror_mode": {
    "name": "ipython",
    "version": 2
   },
   "file_extension": ".py",
   "mimetype": "text/x-python",
   "name": "python",
   "nbconvert_exporter": "python",
   "pygments_lexer": "ipython2",
   "version": "2.7.10"
  }
 },
 "nbformat": 4,
 "nbformat_minor": 0
}
