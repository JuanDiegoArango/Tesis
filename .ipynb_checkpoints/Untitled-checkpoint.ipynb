{
 "cells": [
  {
   "cell_type": "code",
   "execution_count": 67,
   "metadata": {
    "collapsed": false
   },
   "outputs": [
    {
     "name": "stdout",
     "output_type": "stream",
     "text": [
      "Populating the interactive namespace from numpy and matplotlib\n"
     ]
    }
   ],
   "source": [
    "%pylab inline"
   ]
  },
  {
   "cell_type": "code",
   "execution_count": 68,
   "metadata": {
    "collapsed": false
   },
   "outputs": [],
   "source": [
    "estado=1.0\n",
    "Kb_T=4.10\n",
    "dt=0.01\n",
    "\n",
    "k10=6.01\n",
    "k20=0.007\n",
    "k12=0.21\n",
    "k21=0.105\n",
    "\n",
    "x10=1.37*1e-10\n",
    "x20=1.76*1e-10\n",
    "x12=8.58*1e-10\n",
    "x21=-4.2*1e-10\n"
   ]
  },
  {
   "cell_type": "code",
   "execution_count": 69,
   "metadata": {
    "collapsed": false
   },
   "outputs": [],
   "source": [
    "def salir_de_estado(estado,f):\n",
    "    if (estado==1.0):\n",
    "        respuesta=k10*exp(x20*f/(Kb_T))*dt    \n",
    "    elif (estado==2.0):\n",
    "        respuesta=k20*exp(x10*f/(Kb_T))*dt\n",
    "    return respuesta\n",
    "\n",
    "        \n",
    "def cambiar_de_estado(estado, f):\n",
    "    if (estado==1.0):\n",
    "        respuesta=k21*exp(x21*f/(Kb_T))*dt            \n",
    "    elif (estado==2.0):\n",
    "        respuesta=k12*exp(x12*f/(Kb_T))*dt \n",
    "    return respuesta\n",
    "        \n",
    "    "
   ]
  },
  {
   "cell_type": "code",
   "execution_count": 70,
   "metadata": {
    "collapsed": false
   },
   "outputs": [
    {
     "name": "stdout",
     "output_type": "stream",
     "text": [
      "1.0\n",
      "1.0\n",
      "1.0\n",
      "1.0\n",
      "1.0\n",
      "1.0\n",
      "1.0\n",
      "0\n"
     ]
    }
   ],
   "source": [
    "i=0\n",
    "while(estado !=0):\n",
    "    i=i+1\n",
    "    j=i*dt\n",
    "    fuerza=1*(1+j)\n",
    "    \n",
    "    p=random.uniform(size=2)\n",
    "        \n",
    "    if (cambiar_de_estado(estado,fuerza)>p[0]):\n",
    "        if(estado ==1.0):\n",
    "            estado=2.0\n",
    "        else:\n",
    "            estado=1.0\n",
    "        \n",
    "    if (salir_de_estado(estado,fuerza)>p[1]):\n",
    "        estado=0 \n",
    "    \n",
    "    print estado\n",
    "    \n",
    "    \n",
    "    "
   ]
  },
  {
   "cell_type": "code",
   "execution_count": null,
   "metadata": {
    "collapsed": false
   },
   "outputs": [],
   "source": []
  },
  {
   "cell_type": "code",
   "execution_count": null,
   "metadata": {
    "collapsed": true
   },
   "outputs": [],
   "source": []
  }
 ],
 "metadata": {
  "kernelspec": {
   "display_name": "Python 2",
   "language": "python",
   "name": "python2"
  },
  "language_info": {
   "codemirror_mode": {
    "name": "ipython",
    "version": 2
   },
   "file_extension": ".py",
   "mimetype": "text/x-python",
   "name": "python",
   "nbconvert_exporter": "python",
   "pygments_lexer": "ipython2",
   "version": "2.7.10"
  }
 },
 "nbformat": 4,
 "nbformat_minor": 0
}
