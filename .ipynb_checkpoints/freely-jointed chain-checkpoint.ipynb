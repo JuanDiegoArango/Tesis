{
 "cells": [
  {
   "cell_type": "code",
   "execution_count": 5,
   "metadata": {
    "collapsed": false
   },
   "outputs": [
    {
     "name": "stdout",
     "output_type": "stream",
     "text": [
      "Populating the interactive namespace from numpy and matplotlib\n"
     ]
    }
   ],
   "source": [
    "%pylab inline "
   ]
  },
  {
   "cell_type": "code",
   "execution_count": 14,
   "metadata": {
    "collapsed": true
   },
   "outputs": [],
   "source": [
    "Ntot=1000\n",
    "Na=Ntot-7\n",
    "Nb=7\n",
    "Kb_T=4.10\n",
    "La0=0.75\n",
    "Lb0=5.7\n",
    "La=La0\n",
    "Ka=2.0\n"
   ]
  },
  {
   "cell_type": "code",
   "execution_count": 15,
   "metadata": {
    "collapsed": false
   },
   "outputs": [],
   "source": [
    "def funcion_fuerza(Ltot):\n",
    "    f=Ka(Ltot-L)\n",
    "    return Lb0*Nb*(cosh(f*b/KbT)-KbT/(f*b))"
   ]
  },
  {
   "cell_type": "code",
   "execution_count": 16,
   "metadata": {
    "collapsed": false
   },
   "outputs": [],
   "source": [
    "def aproximacion(iteracion,Ltot):\n",
    "    a=0\n",
    "    for i in range (0,iteracion):\n",
    "        a=funcion_fuerza(a)    "
   ]
  },
  {
   "cell_type": "code",
   "execution_count": null,
   "metadata": {
    "collapsed": true
   },
   "outputs": [],
   "source": [
    "def longitud(x,c):\n",
    "    L=aproximacion(1000)\n",
    "    \n",
    "    \n",
    "    return (Kb_T/(4.0*lp))*((1.0-(x/c))**-2.0-1.0+4.0*(x/c))"
   ]
  },
  {
   "cell_type": "code",
   "execution_count": null,
   "metadata": {
    "collapsed": true
   },
   "outputs": [],
   "source": [
    "ka=2.0\n",
    "kAB=float(5e-2)\n",
    "kBA=(700.0)\n",
    "\n",
    "delta_X_AB=0.5\n",
    "delta_X_BA=-0.5\n",
    "\n",
    "L_inicial=Na*La0+Nb*Lb0\n",
    "\n",
    "monomeros=ones(Ntot)\n",
    "cambio_L=100.0\n",
    "posicion_libre=7\n",
    "cp=zeros(4)\n",
    "t=1\n",
    "\n",
    "longitudes=zeros(tiempo)\n",
    "\n",
    "\n",
    "for i in range(0, posicion_libre):\n",
    "    monomeros[i]=2\n",
    "\n",
    "Na=len(monomeros[monomeros==1])    \n",
    "Nb=len(monomeros[monomeros==2])\n",
    "NaT=zeros(tiempo)\n",
    "NbT=zeros(tiempo)\n",
    "tau=zeros(tiempo)\n",
    "longitudA=zeros(tiempo)\n",
    "longitudB=zeros(tiempo)\n",
    "final=tiempo\n",
    "final2=tiempo\n",
    "y=0\n",
    "\n",
    "d=linspace(0,len(monomeros[0:final]),len(monomeros[0:final]))\n",
    "scatter(d,monomeros[0:final])\n",
    "xlabel(\"monomeros por posicion\")\n",
    "ylabel(\"estado en el que se encuentra cada uno, 1=a, 2=b\")\n",
    "xlim(0,20)\n",
    "print Nb"
   ]
  },
  {
   "cell_type": "code",
   "execution_count": null,
   "metadata": {
    "collapsed": true
   },
   "outputs": [],
   "source": [
    "for j in range (0,tiempo):\n",
    "    if (t==j):\n",
    "        t=t*10\n",
    "        print t\n",
    "    \n",
    "    \n",
    "    L=L_inicial+cambio_L*(float(j)*dt)\n",
    "  \n",
    "    Na=len(monomeros[monomeros==1])    \n",
    "    Nb=len(monomeros[monomeros==2]) \n",
    "    \n",
    "    NaT[j]=Na\n",
    "    NbT[j]=Nb\n",
    "    tau[j]=dt*j\n",
    "    \n",
    "\n",
    "    a=La0*Na\n",
    "    b=Kb_T/(lp)\n",
    "    c=Lb0*Nb\n",
    "\n",
    "    cp[0]=4*(b+c*ka)\n",
    "    cp[1]=-(c)*(8*c*ka+4*ka*(L-a)+9*b)\n",
    "    cp[2]=(2*c**2)*(2*c*ka+4*ka*(L-a)+3*b)\n",
    "    cp[3]=4*(c**3)*(ka)*(a-L)\n",
    "    yupi=roots(cp)\n",
    "    Lb=yupi[2]\n",
    "    \n",
    "    \n",
    "    if(c==L):\n",
    "        final=j\n",
    "        \n",
    "        \n",
    "    if(Nb==Ntot) & (y==0):\n",
    "        y=1\n",
    "        final2=j\n",
    "    \n",
    "    \n",
    "    fuerzas[j]=fuerza(Lb,c)\n",
    "    La=nuevo_La(fuerza(Lb,c),Na)\n",
    "    \n",
    "    longitudes[j]=L-L_inicial\n",
    "    if (Na!=0):\n",
    "        longitudA[j]=La/Na\n",
    "    longitudB[j]=Lb/Nb\n",
    "  \n",
    "    p=random.uniform(size=2)\n",
    "    pa=probabilidad_de_transicion(kAB,fuerzas[j],delta_X_AB)\n",
    "    pb=probabilidad_de_transicion(kBA,fuerzas[j],delta_X_BA)  \n",
    "        \n",
    "   \n",
    "    if (pa>p[1]) & ((Na)>0): \n",
    "        final=j\n",
    "        monomeros[posicion_libre]=2   \n",
    "        posicion_libre=posicion_libre+1\n",
    "        \n",
    "    Na=len(monomeros[monomeros==1])    \n",
    "    Nb=len(monomeros[monomeros==2])        \n",
    "        \n",
    "    if (pb>p[0]) & ((Nb)>7) & (posicion_libre>7):\n",
    "        posicion_libre=posicion_libre-1\n",
    "        monomeros[posicion_libre]=1 "
   ]
  }
 ],
 "metadata": {
  "kernelspec": {
   "display_name": "Python 2",
   "language": "python",
   "name": "python2"
  },
  "language_info": {
   "codemirror_mode": {
    "name": "ipython",
    "version": 2
   },
   "file_extension": ".py",
   "mimetype": "text/x-python",
   "name": "python",
   "nbconvert_exporter": "python",
   "pygments_lexer": "ipython2",
   "version": "2.7.10"
  }
 },
 "nbformat": 4,
 "nbformat_minor": 0
}
