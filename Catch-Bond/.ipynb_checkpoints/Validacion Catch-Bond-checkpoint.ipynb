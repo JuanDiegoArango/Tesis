{
 "cells": [
  {
   "cell_type": "code",
   "execution_count": 24,
   "metadata": {
    "collapsed": false
   },
   "outputs": [
    {
     "name": "stdout",
     "output_type": "stream",
     "text": [
      "Populating the interactive namespace from numpy and matplotlib\n"
     ]
    },
    {
     "name": "stderr",
     "output_type": "stream",
     "text": [
      "WARNING: pylab import has clobbered these variables: ['f']\n",
      "`%matplotlib` prevents importing * from pylab and numpy\n"
     ]
    }
   ],
   "source": [
    "%pylab inline"
   ]
  },
  {
   "cell_type": "code",
   "execution_count": 25,
   "metadata": {
    "collapsed": false
   },
   "outputs": [],
   "source": [
    "Kb_T=4.1\n",
    "dt=1.0e-6\n",
    "t=8.0\n",
    "k10=6.01\n",
    "k20=0.007\n",
    "k12=0.21\n",
    "k21=0.105\n",
    "x10=1.37*1e-1\n",
    "x20=1.76*1e-1\n",
    "x12=8.58*1e-1\n",
    "x21=-4.2*1e-1\n",
    "fuerzas=arange(0,10000)\n",
    "repeticiones=arange(0,4000)"
   ]
  },
  {
   "cell_type": "code",
   "execution_count": 26,
   "metadata": {
    "collapsed": true
   },
   "outputs": [],
   "source": [
    "def rata_de_cambio(estado,f):\n",
    "    if (estado==1.0):\n",
    "        respuesta=k10*exp(x10*f/(Kb_T))*dt   \n",
    "    elif (estado==2.0):\n",
    "        respuesta=k20*exp(x20*f/(Kb_T))*dt  \n",
    "    return respuesta        \n",
    "def rata_de_salida(estado, f):\n",
    "    if (estado==2.0):\n",
    "        respuesta=k21*exp(x21*f/(Kb_T))*dt            \n",
    "    elif (estado==1.0):\n",
    "        respuesta=k12*exp(x12*f/(Kb_T))*dt   \n",
    "    return respuesta"
   ]
  },
  {
   "cell_type": "code",
   "execution_count": 27,
   "metadata": {
    "collapsed": false
   },
   "outputs": [],
   "source": [
    "tiempo_promedio=[]\n",
    "for j in fuerzas:\n",
    "    f=j*0.006\n",
    "    t_gillepie=0\n",
    "    for k in repeticiones:\n",
    "        estado=1.0\n",
    "        boleano=True \n",
    "        while(boleano):\n",
    "            ktot=rata_de_cambio(estado,f)+rata_de_salida(estado, f)\n",
    "            koff=rata_de_salida(estado,f)/ktot\n",
    "            kon=rata_de_cambio(estado,f)/ktot\n",
    "            p=random.uniform()  \n",
    "            if(p<kon):\n",
    "                if(estado ==2.0):\n",
    "                    estado=1.0\n",
    "                elif(estado ==1.0):\n",
    "                    estado=2.0    \n",
    "            else:    \n",
    "                boleano=False\n",
    "            c=random.exponential(1.0/ktot)\n",
    "            t_gillepie=t_gillepie+c  \n",
    "    tiempo_promedio.append(t_gillepie/len(repeticiones))\n"
   ]
  },
  {
   "cell_type": "code",
   "execution_count": 28,
   "metadata": {
    "collapsed": false
   },
   "outputs": [
    {
     "data": {
      "text/plain": [
       "[<matplotlib.lines.Line2D at 0x10dac5250>]"
      ]
     },
     "execution_count": 28,
     "metadata": {},
     "output_type": "execute_result"
    },
    {
     "data": {
      "image/png": "[encoded data removed]",
      "text/plain": [
       "<matplotlib.figure.Figure at 0x10da06910>"
      ]
     },
     "metadata": {},
     "output_type": "display_data"
    }
   ],
   "source": [
    "plot(fuerzas*0.006,tiempo_promedio)"
   ]
  }
 ],
 "metadata": {
  "kernelspec": {
   "display_name": "Python 2",
   "language": "python",
   "name": "python2"
  },
  "language_info": {
   "codemirror_mode": {
    "name": "ipython",
    "version": 2
   },
   "file_extension": ".py",
   "mimetype": "text/x-python",
   "name": "python",
   "nbconvert_exporter": "python",
   "pygments_lexer": "ipython2",
   "version": "2.7.11"
  }
 },
 "nbformat": 4,
 "nbformat_minor": 0
}
