{
 "cells": [
  {
   "cell_type": "code",
   "execution_count": 1,
   "metadata": {
    "collapsed": false
   },
   "outputs": [
    {
     "name": "stdout",
     "output_type": "stream",
     "text": [
      "Populating the interactive namespace from numpy and matplotlib\n"
     ]
    }
   ],
   "source": [
    "%pylab inline"
   ]
  },
  {
   "cell_type": "code",
   "execution_count": 2,
   "metadata": {
    "collapsed": false
   },
   "outputs": [],
   "source": [
    "Kb_T=4.1\n",
    "dt=1.0e-6\n",
    "t=8.0\n",
    "tiempo=int(t/dt)\n",
    "k10=6.01\n",
    "k20=0.007\n",
    "k12=0.21\n",
    "k21=0.105\n",
    "x10=1.37*1e-1\n",
    "x20=1.76*1e-1\n",
    "x12=8.58*1e-1\n",
    "x21=-4.2*1e-1\n",
    "repeticiones=200\n",
    "cambios=4\n",
    "fuerzas=zeros(cambios)\n",
    "fuerzas[0]=0.1\n",
    "fuerzas[1]=4.0\n",
    "fuerzas[2]=8.0\n",
    "fuerzas[3]=16.0\n",
    "evolucion=zeros((cambios,tiempo))"
   ]
  },
  {
   "cell_type": "code",
   "execution_count": 3,
   "metadata": {
    "collapsed": false
   },
   "outputs": [],
   "source": [
    "def rata_de_cambio(estado,f):\n",
    "    if (estado==1.0):\n",
    "        respuesta=k10*exp(x10*f/(Kb_T))*dt   \n",
    "    elif (estado==2.0):\n",
    "        respuesta=k20*exp(x20*f/(Kb_T))*dt  \n",
    "    return respuesta        \n",
    "def rata_de_salida(estado, f):\n",
    "    if (estado==2.0):\n",
    "        respuesta=k21*exp(x21*f/(Kb_T))*dt            \n",
    "    elif (estado==1.0):\n",
    "        respuesta=k12*exp(x12*f/(Kb_T))*dt   \n",
    "    return respuesta"
   ]
  },
  {
   "cell_type": "code",
   "execution_count": 4,
   "metadata": {
    "collapsed": false
   },
   "outputs": [
    {
     "name": "stdout",
     "output_type": "stream",
     "text": [
      "0\n",
      "1\n",
      "2\n",
      "3\n"
     ]
    }
   ],
   "source": [
    "for j in range (0,cambios):\n",
    "    f=fuerzas[j]\n",
    "    print j\n",
    "    for k in range (0,repeticiones):\n",
    "        estado=1.0\n",
    "        boleano=True \n",
    "        t_gillepie=0\n",
    "        for i in range (0,tiempo):\n",
    "            while(t_gillepie<double(i)):\n",
    "                ktot=rata_de_cambio(estado,f)+rata_de_salida(estado, f)\n",
    "                koff=rata_de_salida(estado,f)/ktot\n",
    "                kon=rata_de_cambio(estado,f)/ktot\n",
    "                p=random.uniform()  \n",
    "                if(p<kon):\n",
    "                    if(estado ==2.0):\n",
    "                        estado=1.0\n",
    "                    elif(estado ==1.0):\n",
    "                        estado=2.0    \n",
    "                else:    \n",
    "                    evolucion[j][:i]+=ones(i)\n",
    "                    boleano=False\n",
    "                    break\n",
    "                c=random.exponential(1.0/ktot)\n",
    "                t_gillepie=t_gillepie+sum(c)   \n",
    "            if(boleano==False):\n",
    "                break\n",
    "        if (boleano):\n",
    "            evolucion[j]+=ones(tiempo)               \n",
    "evolucion=evolucion/repeticiones               "
   ]
  },
  {
   "cell_type": "code",
   "execution_count": 7,
   "metadata": {
    "collapsed": false
   },
   "outputs": [
    {
     "data": {
      "text/plain": [
       "(-5, 1)"
      ]
     },
     "execution_count": 7,
     "metadata": {},
     "output_type": "execute_result"
    },
    {
     "data": {
      "image/png": "[encoded data removed]",
      "text/plain": [
       "<matplotlib.figure.Figure at 0x10a42c550>"
      ]
     },
     "metadata": {},
     "output_type": "display_data"
    }
   ],
   "source": [
    "x=linspace(0,t,tiempo)\n",
    "d=log(evolucion)\n",
    "plot((x),d[0],label=\"0.1 pN\")\n",
    "plot((x),d[1],label=\"4.0 pN\")\n",
    "plot((x),d[2],label=\"8.0 pN\")\n",
    "plot((x),d[3],label=\"16.0 pN\")\n",
    "xlabel(\"(tiempo) (s)\")\n",
    "plt.legend()\n",
    "ylim(-5,1)"
   ]
  }
 ],
 "metadata": {
  "kernelspec": {
   "display_name": "Python 2",
   "language": "python",
   "name": "python2"
  },
  "language_info": {
   "codemirror_mode": {
    "name": "ipython",
    "version": 2
   },
   "file_extension": ".py",
   "mimetype": "text/x-python",
   "name": "python",
   "nbconvert_exporter": "python",
   "pygments_lexer": "ipython2",
   "version": "2.7.11"
  }
 },
 "nbformat": 4,
 "nbformat_minor": 0
}
