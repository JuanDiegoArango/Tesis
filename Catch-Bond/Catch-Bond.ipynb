{
 "cells": [
  {
   "cell_type": "code",
   "execution_count": 96,
   "metadata": {
    "collapsed": false
   },
   "outputs": [
    {
     "name": "stdout",
     "output_type": "stream",
     "text": [
      "Populating the interactive namespace from numpy and matplotlib\n"
     ]
    }
   ],
   "source": [
    "%pylab inline"
   ]
  },
  {
   "cell_type": "code",
   "execution_count": 97,
   "metadata": {
    "collapsed": false
   },
   "outputs": [],
   "source": [
    "estado=2.0\n",
    "Kb_T=4.10\n",
    "dt=0.00001\n",
    "\n",
    "k10=6.01\n",
    "k20=0.007\n",
    "k12=0.21\n",
    "k21=0.105\n",
    "\n",
    "x10=1.37*1e-10\n",
    "x20=1.76*1e-10\n",
    "x12=8.58*1e-10\n",
    "x21=-4.2*1e-10\n"
   ]
  },
  {
   "cell_type": "code",
   "execution_count": 98,
   "metadata": {
    "collapsed": false
   },
   "outputs": [],
   "source": [
    "def salir_de_estado(estado,f):\n",
    "    if (estado==1.0):\n",
    "        respuesta=k10*exp(x10*f/(Kb_T))*dt    \n",
    "    elif (estado==2.0):\n",
    "        respuesta=k20*exp(x20*f/(Kb_T))*dt\n",
    "    return respuesta\n",
    "\n",
    "        \n",
    "def cambiar_de_estado(estado, f):\n",
    "    if (estado==2.0):\n",
    "        respuesta=k21*exp(x21*f/(Kb_T))*dt            \n",
    "    elif (estado==1.0):\n",
    "        respuesta=k12*exp(x12*f/(Kb_T))*dt \n",
    "    return respuesta\n",
    "        \n",
    "    "
   ]
  },
  {
   "cell_type": "code",
   "execution_count": 99,
   "metadata": {
    "collapsed": false,
    "scrolled": true
   },
   "outputs": [
    {
     "name": "stdout",
     "output_type": "stream",
     "text": [
      "cambie a 1\n",
      "2734407\n",
      "2746337\n"
     ]
    }
   ],
   "source": [
    "i=0\n",
    "j=0\n",
    "while(estado !=0): \n",
    "    \n",
    "    fuerza=0.001*(i)\n",
    "    \n",
    "    p=random.uniform(size=2)\n",
    "        \n",
    "    if (cambiar_de_estado(estado,fuerza)>p[0]):\n",
    "        if(estado ==1.0):\n",
    "            estado=2.0\n",
    "            print \"cambie a 2\"\n",
    "            j=i\n",
    "            print j\n",
    "        elif (estado ==2.0):\n",
    "            estado=1.0\n",
    "            print \"cambie a 1\"\n",
    "            print i-j\n",
    "\n",
    "    elif (salir_de_estado(estado,fuerza)>p[1]):\n",
    "        estado=0.0 \n",
    "        print i\n",
    "    \n",
    "    i=1+i\n",
    "    \n",
    "    \n",
    "    "
   ]
  },
  {
   "cell_type": "code",
   "execution_count": null,
   "metadata": {
    "collapsed": false
   },
   "outputs": [],
   "source": []
  },
  {
   "cell_type": "code",
   "execution_count": null,
   "metadata": {
    "collapsed": true
   },
   "outputs": [],
   "source": []
  },
  {
   "cell_type": "code",
   "execution_count": null,
   "metadata": {
    "collapsed": true
   },
   "outputs": [],
   "source": []
  }
 ],
 "metadata": {
  "kernelspec": {
   "display_name": "Python 2",
   "language": "python",
   "name": "python2"
  },
  "language_info": {
   "codemirror_mode": {
    "name": "ipython",
    "version": 2
   },
   "file_extension": ".py",
   "mimetype": "text/x-python",
   "name": "python",
   "nbconvert_exporter": "python",
   "pygments_lexer": "ipython2",
   "version": "2.7.10"
  }
 },
 "nbformat": 4,
 "nbformat_minor": 0
}
