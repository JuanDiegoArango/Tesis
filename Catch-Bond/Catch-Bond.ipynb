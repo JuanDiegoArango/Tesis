{
 "cells": [
  {
   "cell_type": "code",
   "execution_count": 268,
   "metadata": {
    "collapsed": false
   },
   "outputs": [
    {
     "name": "stdout",
     "output_type": "stream",
     "text": [
      "Populating the interactive namespace from numpy and matplotlib\n"
     ]
    },
    {
     "name": "stderr",
     "output_type": "stream",
     "text": [
      "WARNING: pylab import has clobbered these variables: ['array']\n",
      "`%matplotlib` prevents importing * from pylab and numpy\n"
     ]
    }
   ],
   "source": [
    "%pylab inline"
   ]
  },
  {
   "cell_type": "code",
   "execution_count": 279,
   "metadata": {
    "collapsed": false
   },
   "outputs": [],
   "source": [
    "Kb_T=4.1\n",
    "dt=5.0e-6\n",
    "t=4.0\n",
    "tiempo=int(t/dt)\n",
    "k10=6.01  \n",
    "k20=0.007\n",
    "k12=0.21\n",
    "k21=0.105\n",
    "x10=1.37*1e-1\n",
    "x20=1.76*1e-1\n",
    "x12=8.58*1e-1\n",
    "x21=-4.2*1e-1\n",
    "\n",
    "repeticiones=50\n",
    "cambios=4\n",
    "fuerzas=zeros(cambios)\n",
    "\n",
    "fuerzas[0]=16.0\n",
    "fuerzas[1]=4.0\n",
    "fuerzas[2]=2.0\n",
    "fuerzas[3]=0.01\n",
    "\n",
    "\n",
    "evolucion=zeros((cambios,tiempo))\n"
   ]
  },
  {
   "cell_type": "code",
   "execution_count": 280,
   "metadata": {
    "collapsed": false
   },
   "outputs": [],
   "source": [
    "def salir_de_estado(estado,f):\n",
    "    if (estado==1.0):\n",
    "        respuesta=k10*exp(x10*f/(Kb_T))*dt    \n",
    "    elif (estado==2.0):\n",
    "        respuesta=k20*exp(x20*f/(Kb_T))*dt\n",
    "    return respuesta        \n",
    "def cambiar_de_estado(estado, f):\n",
    "    if (estado==2.0):\n",
    "        respuesta=k21*exp(x21*f/(Kb_T))*dt            \n",
    "    elif (estado==1.0):\n",
    "        respuesta=k12*exp(x12*f/(Kb_T))*dt \n",
    "    return respuesta"
   ]
  },
  {
   "cell_type": "code",
   "execution_count": 281,
   "metadata": {
    "collapsed": false
   },
   "outputs": [
    {
     "name": "stdout",
     "output_type": "stream",
     "text": [
      "0\n",
      "1\n",
      "2\n",
      "3\n"
     ]
    }
   ],
   "source": [
    "for j in range (0,cambios):\n",
    "    fuerza=fuerzas[j]\n",
    "    print j\n",
    "    for k in range (0,repeticiones):\n",
    "        estado=1.0\n",
    "        contador=100\n",
    "        for i in range (0,tiempo):     \n",
    "            p=random.uniform(size=2)\n",
    "            if (cambiar_de_estado(estado,fuerza)>p[0]):\n",
    "                if(estado ==2.0):\n",
    "                    estado=1.0\n",
    "                elif (estado ==1.0):\n",
    "                    estado=2.0\n",
    "            if (salir_de_estado(estado,fuerza)>p[1]):\n",
    "                evolucion[j][:i]+=ones(i)\n",
    "                break\n",
    "                \n",
    "evolucion=evolucion/repeticiones               "
   ]
  },
  {
   "cell_type": "code",
   "execution_count": 286,
   "metadata": {
    "collapsed": false
   },
   "outputs": [
    {
     "data": {
      "text/plain": [
       "(0, 0.2)"
      ]
     },
     "execution_count": 286,
     "metadata": {},
     "output_type": "execute_result"
    },
    {
     "data": {
      "image/png": "[encoded data removed]",
      "text/plain": [
       "<matplotlib.figure.Figure at 0x17cea5090>"
      ]
     },
     "metadata": {},
     "output_type": "display_data"
    }
   ],
   "source": [
    "x=linspace(0,t,tiempo)\n",
    "\n",
    "plot(x,evolucion[0],label=\"16.0 pN\")\n",
    "plot(x,evolucion[1],label=\"4.0 pN\")\n",
    "plot(x,evolucion[2],label=\"2.0 pN\")\n",
    "plot(x,evolucion[3],label=\"0.01 pN\")\n",
    "xlabel(\"tiempo (s)\")\n",
    "plt.legend()\n",
    "ylim(0,0.2)"
   ]
  },
  {
   "cell_type": "code",
   "execution_count": 284,
   "metadata": {
    "collapsed": false
   },
   "outputs": [
    {
     "data": {
      "text/plain": [
       "array([[ 0.76,  0.76,  0.76, ...,  0.  ,  0.  ,  0.  ],\n",
       "       [ 0.98,  0.98,  0.98, ...,  0.  ,  0.  ,  0.  ],\n",
       "       [ 0.98,  0.98,  0.98, ...,  0.  ,  0.  ,  0.  ],\n",
       "       [ 0.98,  0.98,  0.98, ...,  0.  ,  0.  ,  0.  ]])"
      ]
     },
     "execution_count": 284,
     "metadata": {},
     "output_type": "execute_result"
    }
   ],
   "source": []
  },
  {
   "cell_type": "code",
   "execution_count": null,
   "metadata": {
    "collapsed": true
   },
   "outputs": [],
   "source": []
  }
 ],
 "metadata": {
  "kernelspec": {
   "display_name": "Python 2",
   "language": "python",
   "name": "python2"
  },
  "language_info": {
   "codemirror_mode": {
    "name": "ipython",
    "version": 2
   },
   "file_extension": ".py",
   "mimetype": "text/x-python",
   "name": "python",
   "nbconvert_exporter": "python",
   "pygments_lexer": "ipython2",
   "version": "2.7.10"
  }
 },
 "nbformat": 4,
 "nbformat_minor": 0
}
